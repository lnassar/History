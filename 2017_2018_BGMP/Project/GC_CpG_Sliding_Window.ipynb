{
 "cells": [
  {
   "cell_type": "code",
   "execution_count": 27,
   "metadata": {
    "collapsed": true
   },
   "outputs": [],
   "source": [
    "import argparse\n",
    "\n",
    "parser = argparse.ArgumentParser(description='Looks at a fasta file on a sliding window and turns sequence into GC percentage, or CpG content (Default is GC percentage).')\n",
    "parser.add_argument('-f', '--file', metavar='Input file name/path', required=True,type=str, help='Input file name or path')\n",
    "parser.add_argument('-o', '--output', metavar='Output File Name', required=True,type=str, help='Name for Output File')\n",
    "parser.add_argument('-n', '--window', metavar='Sliding Window Size', type=int, default=10000, help='Desired Size of Sliding Window')\n",
    "parser.add_argument('-c', '--cpg', action='store_true', default=False, help='Designate if desired run mode is CpG density instead of GC content')\n",
    "\n",
    "parser = parser.parse_args()\n",
    "\n",
    "n = parser.window\n",
    "\n",
    "##Looks at a fasta file on a sliding window and turns sequence into GC percentage\n",
    "#It is easy to customize the sliding window by changing the \"n\" variable\n",
    "\n",
    "myfasta = open(parser.file)\n",
    "fh = open(parser.output, \"a\")\n",
    "\n",
    "#First open the file, pull out the header lines and store them as the first item in the list\n",
    "for lines in myfasta:\n",
    "    lines = lines.rstrip()\n",
    "    if lines.startswith(\">\"):\n",
    "        output = []\n",
    "        header = lines.split(\">\")\n",
    "        header = header[1]\n",
    "        output.append(header)\n",
    "        \n",
    "        \n",
    "    # If it is not a header line then first we divide them into n sized items (default = 10000)\n",
    "    else:\n",
    "        windows = [lines[i:i+n] for i in range(0, len(lines), n)]\n",
    "        \n",
    "        #Then for each of these items we calculate the amount of G and C occurences or CG and divide by length of string.\n",
    "        for each in windows:\n",
    "            if parser.cpg:\n",
    "                CpGCount = each.count('CG')\n",
    "                CpGDensity = round(CpGCount / len(each), 4)\n",
    "                output.append(CpGDensity)\n",
    "            else:\n",
    "                GCount = each.count('G')\n",
    "                CCount = each.count('C')\n",
    "                GCCount = GCount + CCount\n",
    "                GCContent = round(GCCount / len(each), 4)\n",
    "                output.append(GCContent) \n",
    "            \n",
    "        #Convert our list to a string and write it out to our output file\n",
    "        outputstring = ' '.join(str(e) for e in output)\n",
    "        outputstring = outputstring + \"\\n\"\n",
    "        fh.write(outputstring)\n",
    "            \n",
    "fh.close()\n",
    "myfasta.close()"
   ]
  }
 ],
 "metadata": {
  "kernelspec": {
   "display_name": "Python 3",
   "language": "python",
   "name": "python3"
  },
  "language_info": {
   "codemirror_mode": {
    "name": "ipython",
    "version": 3
   },
   "file_extension": ".py",
   "mimetype": "text/x-python",
   "name": "python",
   "nbconvert_exporter": "python",
   "pygments_lexer": "ipython3",
   "version": "3.6.1"
  }
 },
 "nbformat": 4,
 "nbformat_minor": 2
}
