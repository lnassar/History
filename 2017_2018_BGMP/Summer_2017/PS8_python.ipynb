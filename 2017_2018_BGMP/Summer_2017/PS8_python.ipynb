{
 "cells": [
  {
   "cell_type": "code",
   "execution_count": 15,
   "metadata": {},
   "outputs": [
    {
     "name": "stdout",
     "output_type": "stream",
     "text": [
      "The number of mapped reads is 10161238\n",
      "The number of unmapped reads is 500442\n",
      "24\n"
     ]
    }
   ],
   "source": [
    "###PS8_python\n",
    "#Argparse in case I want to run it from bash\n",
    "# import argparse\n",
    "\n",
    "# def get_arguments():\n",
    "#     parser = argparse.ArgumentParser(description=\"PS8\")\n",
    "#     parser.add_argument(\"-f\", \"--filename\", help=\"File with data\", required=True, type=str)\n",
    "#     return parser.parse_args()\n",
    "\n",
    "# args = get_arguments()\n",
    "# myfile = args.filename\n",
    "\n",
    "my_file = open(\"mmu_700_tumor_cells.sam\")\n",
    "\n",
    "#Initialize both of my dictionaries\n",
    "mapped = {}\n",
    "unmapped = {}\n",
    "\n",
    "#Iterate through the lines in my dictionary, skip the first lines that start with '@', then add one instance of each\n",
    "#mapped/unmapped read into a dictionary\n",
    "skipped_lines=0\n",
    "for each in my_file:\n",
    "    if each.startswith(\"@\"):\n",
    "        skipped_lines=skipped_lines + 1\n",
    "    else:\n",
    "        each = each.split(\"\\t\")\n",
    "        if each[0] not in mapped and ((int(each[1]) & 4) != 4):\n",
    "            mapped[each[0]] = 1\n",
    "        elif each[0] not in unmapped and ((int(each[1]) & 4) == 4):\n",
    "            unmapped[each[0]] = 1\n",
    "\n",
    "#Count the number of elements in each dictionary and print to terminal    \n",
    "print(\"The number of mapped reads is\",len(mapped))\n",
    "print(\"The number of unmapped reads is\",len(unmapped))\n",
    "\n",
    "#Quality assurance\n",
    "#print(skipped_lines)\n",
    "\n",
    "#In case you don't want to run the script, the answers I get are:\n",
    "#The number of mapped reads is 10161238\n",
    "#The number of unmapped reads is 500442\n",
    "my_file.close()"
   ]
  },
  {
   "cell_type": "code",
   "execution_count": null,
   "metadata": {
    "collapsed": true
   },
   "outputs": [],
   "source": []
  }
 ],
 "metadata": {
  "kernelspec": {
   "display_name": "Python 3",
   "language": "python",
   "name": "python3"
  },
  "language_info": {
   "codemirror_mode": {
    "name": "ipython",
    "version": 3
   },
   "file_extension": ".py",
   "mimetype": "text/x-python",
   "name": "python",
   "nbconvert_exporter": "python",
   "pygments_lexer": "ipython3",
   "version": "3.6.1"
  }
 },
 "nbformat": 4,
 "nbformat_minor": 2
}
