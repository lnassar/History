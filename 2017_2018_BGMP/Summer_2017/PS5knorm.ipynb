{
 "cells": [
  {
   "cell_type": "code",
   "execution_count": 23,
   "metadata": {},
   "outputs": [],
   "source": [
    "#!/usr/bin/env python3\n",
    "import argparse\n",
    "\n",
    "def get_arguments():\n",
    "    parser = argparse.ArgumentParser(description=\"PS5pt2\")\n",
    "    parser.add_argument(\"-c\", \"--coveragelimit\", help=\"Desired coverage limit\",required=True,type=int)\n",
    "    parser.add_argument(\"-f\", \"--filename\", help=\"File with data\", required=True, type=str)\n",
    "    return parser.parse_args()\n",
    "\n",
    "args = get_arguments()\n",
    "kcov = args.coveragelimit\n",
    "myfiles = args.filename\n",
    "\n",
    "my_file=open(myfiles)\n",
    "\n",
    "#Code for quality assurance testing\n",
    "#my_file=open(\"lane1_NoIndex_L001_R1_003.fastq\")\n",
    "#my_file=open(\"test.txt\")\n",
    "\n",
    "#Assign my variables\n",
    "kdic={}\n",
    "i= 0\n",
    "ksize = 15\n",
    "newfile = open(\"PS5_kcov_\"+str(kcov),\"w\")\n",
    "myfile = []\n",
    "\n",
    "#Make a list with my whole file so I can designate the lines to pick out in the next loop\n",
    "for lines in my_file:\n",
    "   lines = lines.strip(\"\\n\")\n",
    "   myfile.append(lines)\n",
    "\n",
    "#Look through sequence lines in the file and find frequency of kmer occurence then add frequencies to an array and\n",
    "#write that out to another file if it is within out coverage parameters\n",
    "for lines in myfile:\n",
    "    i+=1\n",
    "    if i%4==2:\n",
    "        kcover = []\n",
    "        for start in range((len(lines)-ksize+1)):\n",
    "            kmer=lines[start:(start+ksize)]\n",
    "            if kmer in kdic.keys():\n",
    "                kdic[kmer]=(kdic[kmer])+1\n",
    "            else:\n",
    "                kdic[kmer]=1\n",
    "            kcover.append(kdic[kmer])\n",
    "        kcover = sorted(kcover)\n",
    "        if kcover[((len(kcover))//2)] <= kcov:\n",
    "            newfile.write(myfile[i-2]+\"\\n\")\n",
    "            newfile.write(myfile[i-1]+\"\\n\")\n",
    "            newfile.write(myfile[i]+\"\\n\")\n",
    "            newfile.write(myfile[i+1]+\"\\n\")\n",
    "            \n",
    "my_file.close()"
   ]
  },
  {
   "cell_type": "code",
   "execution_count": null,
   "metadata": {
    "collapsed": true
   },
   "outputs": [],
   "source": []
  }
 ],
 "metadata": {
  "kernelspec": {
   "display_name": "Python 3",
   "language": "python",
   "name": "python3"
  },
  "language_info": {
   "codemirror_mode": {
    "name": "ipython",
    "version": 3
   },
   "file_extension": ".py",
   "mimetype": "text/x-python",
   "name": "python",
   "nbconvert_exporter": "python",
   "pygments_lexer": "ipython3",
   "version": "3.6.1"
  }
 },
 "nbformat": 4,
 "nbformat_minor": 2
}
