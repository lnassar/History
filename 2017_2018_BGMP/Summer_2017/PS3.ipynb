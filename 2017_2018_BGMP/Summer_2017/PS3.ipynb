{
 "cells": [
  {
   "cell_type": "markdown",
   "metadata": {},
   "source": [
    "# Bi 621 – Problem Set 3\n",
    "## Due before class, Wednesday, July 12\n",
    "\n",
    "The goal of this problem set is to convert phred quality scores from their single letter encoding into integers and to calculate the average phred quality score for a single sequence. **<font color=green>Be sure to remove the ```raise NotImplementedError()``` from the code.**"
   ]
  },
  {
   "cell_type": "code",
   "execution_count": 1,
   "metadata": {
    "collapsed": true
   },
   "outputs": [],
   "source": [
    "#initializing variables, do not change\n",
    "id = \"@GAAATG_1_1101_4446_2137_1\"\n",
    "seq = \"TGCAGGTTGAGTTCTCGCTGTCCCGCCCCCATCTCTTCTCTTCCAGTCTGGCTCTGGAGCAGTTGAGCCCAGCTCAGGTCCGCCGGAGGAGACCG\"\n",
    "phred_score = \"FFHHHHHJJJJIJIJJJIJJJJJJIIIJJJEHJJJJJJJIJIDGEHIJJFIGGGHFGHGFFF@EEDE@C??DDDDDDD@CDDDDBBDDDBDBDD@\""
   ]
  },
  {
   "cell_type": "markdown",
   "metadata": {},
   "source": [
    "# Part 1 – Convert_phred\n",
    "Write a function that takes a single character as it's parameter and converts that parameter into a phred score, and returns the phred score.\n",
    ">*Remember: Illumina 1.8+ phred scores are offset by a factor of 33 from 0. Review the lecture notes as well as the [Wikipedia FASTQ page](https://en.wikipedia.org/wiki/FASTQ_format) to see how to do the conversion.*\n",
    "\n",
    "*HINT* – what does the ord() function do? Check the documentation"
   ]
  },
  {
   "cell_type": "code",
   "execution_count": 2,
   "metadata": {
    "deletable": false,
    "nbgrader": {
     "checksum": "ceb458b1365e764c3ed0f20bd58ef3c3",
     "grade": false,
     "grade_id": "convert_phred",
     "locked": false,
     "schema_version": 1,
     "solution": true
    }
   },
   "outputs": [
    {
     "data": {
      "text/plain": [
       "36"
      ]
     },
     "execution_count": 2,
     "metadata": {},
     "output_type": "execute_result"
    }
   ],
   "source": [
    "def convert_phred(letter):\n",
    "    \"\"\"Converts a single character into a phred score\"\"\"\n",
    "    QScore = ord(letter) - 33\n",
    "    return QScore"
   ]
  },
  {
   "cell_type": "markdown",
   "metadata": {},
   "source": [
    "Check to see that your code works."
   ]
  },
  {
   "cell_type": "code",
   "execution_count": 3,
   "metadata": {},
   "outputs": [
    {
     "data": {
      "text/plain": [
       "32"
      ]
     },
     "execution_count": 3,
     "metadata": {},
     "output_type": "execute_result"
    }
   ],
   "source": [
    "convert_phred('A')"
   ]
  },
  {
   "cell_type": "markdown",
   "metadata": {},
   "source": [
    "# <font color=red> The next cell contains tests for the autograder. Do not change!"
   ]
  },
  {
   "cell_type": "code",
   "execution_count": 4,
   "metadata": {
    "collapsed": true,
    "deletable": false,
    "editable": false,
    "nbgrader": {
     "checksum": "862130807f102179b42f9f0368295da3",
     "grade": true,
     "grade_id": "correct_convert_phred",
     "locked": true,
     "points": 3,
     "schema_version": 1,
     "solution": false
    }
   },
   "outputs": [],
   "source": [
    "\"\"\"Check that convert_phred returns the correct value for several different inputs\"\"\"\n",
    "assert convert_phred(\"I\") == 40\n",
    "assert convert_phred(\"C\") == 34\n",
    "assert convert_phred(\"2\") == 17\n",
    "assert convert_phred(\"@\") == 31\n",
    "assert convert_phred(\"$\") == 3"
   ]
  },
  {
   "cell_type": "markdown",
   "metadata": {},
   "source": [
    "# Part 2 – Convert the entire phred string\n",
    "Write a loop print each letter in the `phred_score` string and its corresponding score in the following format:\n",
    "```\n",
    "0: F - 37\n",
    "1: F - 37\n",
    "2: H - 39\n",
    "3: H - 39\n",
    "4: H - 39\n",
    "5: H - 39\n",
    "6: H - 39\n",
    "7: J - 41\n",
    "...```\n",
    "Reminder, start simply.\n",
    "* Write a loop to iterate over each letter in the `phred_score` and print them out.\n",
    "* Modify your loop to print the letter and the corresponding score. *Be sure to use your `convert_phred` function*.\n",
    "* Alter the loop to print out an index: 0 for the first letter, 1 for the 2nd letter, etc.\n",
    "* Be sure your formatting matches the requested output."
   ]
  },
  {
   "cell_type": "code",
   "execution_count": 31,
   "metadata": {
    "deletable": false,
    "nbgrader": {
     "checksum": "96d380ac37a6d7c2e635de084e446d8b",
     "grade": true,
     "grade_id": "print_phred_score",
     "locked": false,
     "points": 3,
     "schema_version": 1,
     "solution": true
    }
   },
   "outputs": [
    {
     "name": "stdout",
     "output_type": "stream",
     "text": [
      "0 : F - 37\n",
      "1 : F - 37\n",
      "2 : H - 39\n",
      "3 : H - 39\n",
      "4 : H - 39\n",
      "5 : H - 39\n",
      "6 : H - 39\n",
      "7 : J - 41\n",
      "8 : J - 41\n",
      "9 : J - 41\n",
      "10 : J - 41\n",
      "11 : I - 40\n",
      "12 : J - 41\n",
      "13 : I - 40\n",
      "14 : J - 41\n",
      "15 : J - 41\n",
      "16 : J - 41\n",
      "17 : I - 40\n",
      "18 : J - 41\n",
      "19 : J - 41\n",
      "20 : J - 41\n",
      "21 : J - 41\n",
      "22 : J - 41\n",
      "23 : J - 41\n",
      "24 : I - 40\n",
      "25 : I - 40\n",
      "26 : I - 40\n",
      "27 : J - 41\n",
      "28 : J - 41\n",
      "29 : J - 41\n",
      "30 : E - 36\n",
      "31 : H - 39\n",
      "32 : J - 41\n",
      "33 : J - 41\n",
      "34 : J - 41\n",
      "35 : J - 41\n",
      "36 : J - 41\n",
      "37 : J - 41\n",
      "38 : J - 41\n",
      "39 : I - 40\n",
      "40 : J - 41\n",
      "41 : I - 40\n",
      "42 : D - 35\n",
      "43 : G - 38\n",
      "44 : E - 36\n",
      "45 : H - 39\n",
      "46 : I - 40\n",
      "47 : J - 41\n",
      "48 : J - 41\n",
      "49 : F - 37\n",
      "50 : I - 40\n",
      "51 : G - 38\n",
      "52 : G - 38\n",
      "53 : G - 38\n",
      "54 : H - 39\n",
      "55 : F - 37\n",
      "56 : G - 38\n",
      "57 : H - 39\n",
      "58 : G - 38\n",
      "59 : F - 37\n",
      "60 : F - 37\n",
      "61 : F - 37\n",
      "62 : @ - 31\n",
      "63 : E - 36\n",
      "64 : E - 36\n",
      "65 : D - 35\n",
      "66 : E - 36\n",
      "67 : @ - 31\n",
      "68 : C - 34\n",
      "69 : ? - 30\n",
      "70 : ? - 30\n",
      "71 : D - 35\n",
      "72 : D - 35\n",
      "73 : D - 35\n",
      "74 : D - 35\n",
      "75 : D - 35\n",
      "76 : D - 35\n",
      "77 : D - 35\n",
      "78 : @ - 31\n",
      "79 : C - 34\n",
      "80 : D - 35\n",
      "81 : D - 35\n",
      "82 : D - 35\n",
      "83 : D - 35\n",
      "84 : B - 33\n",
      "85 : B - 33\n",
      "86 : D - 35\n",
      "87 : D - 35\n",
      "88 : D - 35\n",
      "89 : B - 33\n",
      "90 : D - 35\n",
      "91 : B - 33\n",
      "92 : D - 35\n",
      "93 : D - 35\n",
      "94 : @ - 31\n"
     ]
    }
   ],
   "source": [
    "i=-1\n",
    "for each in phred_score:\n",
    "    i=i+1\n",
    "    print(i,\":\",each,\"-\",convert_phred(each))"
   ]
  },
  {
   "cell_type": "markdown",
   "metadata": {},
   "source": [
    "Write a second function that takes the original, unmodified `phred_score` string as a parameter. This function should calculate the average quality score of the whole phred string.\n",
    "> Struggling? See some [hints](PS3_hints.ipynb)"
   ]
  },
  {
   "cell_type": "code",
   "execution_count": 20,
   "metadata": {
    "collapsed": true,
    "deletable": false,
    "nbgrader": {
     "checksum": "60acc8f9dc4529970991d8e3a2f03921",
     "grade": false,
     "grade_id": "qual_score",
     "locked": false,
     "schema_version": 1,
     "solution": true
    }
   },
   "outputs": [],
   "source": [
    "def qual_score(phred_score):\n",
    "    AVGscore = 0\n",
    "    i = 0\n",
    "    for each in phred_score:\n",
    "        i = i+1\n",
    "        AVGscore = AVGscore + convert_phred(each)\n",
    "    return AVGscore/i"
   ]
  },
  {
   "cell_type": "code",
   "execution_count": 21,
   "metadata": {},
   "outputs": [
    {
     "name": "stdout",
     "output_type": "stream",
     "text": [
      "37.62105263157895\n"
     ]
    }
   ],
   "source": [
    "print(qual_score(phred_score))"
   ]
  },
  {
   "cell_type": "markdown",
   "metadata": {},
   "source": [
    "# <font color=red> The next cell contains tests for the autograder. Do not change!"
   ]
  },
  {
   "cell_type": "code",
   "execution_count": 28,
   "metadata": {
    "collapsed": true,
    "deletable": false,
    "editable": false,
    "nbgrader": {
     "checksum": "23584f1cc69a1e738d0151f65d8c8d8e",
     "grade": true,
     "grade_id": "qual_score_call_fxn",
     "locked": true,
     "points": 1,
     "schema_version": 1,
     "solution": false
    }
   },
   "outputs": [],
   "source": [
    "old_convert_phred = convert_phred\n",
    "del convert_phred\n",
    "\n",
    "try:\n",
    "    qual_score(phred_score)\n",
    "except NameError:\n",
    "    pass\n",
    "else:\n",
    "    raise AssertionError(\"qual_score does not call convert_phred\")\n",
    "finally:\n",
    "    convert_phred = old_convert_phred\n",
    "    del old_convert_phred"
   ]
  },
  {
   "cell_type": "markdown",
   "metadata": {},
   "source": [
    "# <font color=red> The next cell contains tests for the autograder. Do not change!"
   ]
  },
  {
   "cell_type": "code",
   "execution_count": 29,
   "metadata": {
    "collapsed": true,
    "deletable": false,
    "editable": false,
    "nbgrader": {
     "checksum": "c3ff17f711449b29bc80334558e4ab4d",
     "grade": true,
     "grade_id": "correct_qual_score",
     "locked": true,
     "points": 3,
     "schema_version": 1,
     "solution": false
    }
   },
   "outputs": [],
   "source": [
    "assert qual_score(phred_score) == 37.62105263157895"
   ]
  },
  {
   "cell_type": "code",
   "execution_count": null,
   "metadata": {
    "collapsed": true
   },
   "outputs": [],
   "source": []
  }
 ],
 "metadata": {
  "kernelspec": {
   "display_name": "Python 3",
   "language": "python",
   "name": "python3"
  },
  "language_info": {
   "codemirror_mode": {
    "name": "ipython",
    "version": 3
   },
   "file_extension": ".py",
   "mimetype": "text/x-python",
   "name": "python",
   "nbconvert_exporter": "python",
   "pygments_lexer": "ipython3",
   "version": "3.6.1"
  }
 },
 "nbformat": 4,
 "nbformat_minor": 1
}
