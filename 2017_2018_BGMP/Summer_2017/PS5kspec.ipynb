{
 "cells": [
  {
   "cell_type": "code",
   "execution_count": 29,
   "metadata": {},
   "outputs": [
    {
     "name": "stdout",
     "output_type": "stream",
     "text": [
      "# k-mer frequency \t Number of k-mers in this category\n",
      "1 \t\t\t 21071\n",
      "2 \t\t\t 423\n",
      "3 \t\t\t 104\n",
      "4 \t\t\t 77\n",
      "5 \t\t\t 54\n",
      "6 \t\t\t 9\n",
      "7 \t\t\t 6\n",
      "8 \t\t\t 2\n",
      "11 \t\t\t 1\n",
      "13 \t\t\t 1\n",
      "17 \t\t\t 1\n",
      "20 \t\t\t 2\n"
     ]
    }
   ],
   "source": [
    "#!/usr/bin/env python3\n",
    "import argparse\n",
    "\n",
    "def get_arguments():\n",
    "    parser = argparse.ArgumentParser(description=\"PS5\")\n",
    "    parser.add_argument(\"-k\", \"--kmersize\", help=\"Desired K-mer size\",required=True,type=int)\n",
    "    parser.add_argument(\"-f\", \"--filename\", help=\"File with data\", required=True, type=str)\n",
    "    return parser.parse_args()\n",
    "\n",
    "args = get_arguments()\n",
    "ksize = args.kmersize\n",
    "myfile = args.filename\n",
    "\n",
    "my_file=open(myfile)\n",
    "#Code for quality assurance testing\n",
    "#my_file=open(\"lane1_NoIndex_L001_R1_003.fastq\")\n",
    "#my_file=open(\"test.txt\")\n",
    "     \n",
    "#Assign my variables\n",
    "kdic={}\n",
    "i= 0\n",
    "\n",
    "#Look through sequence lines in the file and find frequency of kmer occurence\n",
    "for lines in my_file:\n",
    "    i+=1\n",
    "    if i%4==2:\n",
    "        for start in range((len(lines)-ksize+1)):\n",
    "            kmer=lines[start:(start+ksize)]\n",
    "            if kmer in kdic.keys():\n",
    "                kdic[kmer]=(kdic[kmer])+1\n",
    "            else:\n",
    "                kdic[kmer]=1\n",
    "\n",
    "#Create a Kmer count dictionary and then populate it with the kmer frequencies\n",
    "kcount={}\n",
    "for key, value in kdic.items():\n",
    "    if value in kcount.keys():\n",
    "        kcount[value]=(kcount[value])+1\n",
    "    else:\n",
    "        kcount[value]=1\n",
    "\n",
    "#Return the wanted output, two columns of kmer frequency and the number observed in that category\n",
    "print(\"# k-mer frequency \\t Number of k-mers in this category\")\n",
    "for each in sorted(kcount.keys()):\n",
    "    print(each,\"\\t\\t\\t\",kcount[each])\n",
    "    \n",
    "my_file.close()"
   ]
  },
  {
   "cell_type": "code",
   "execution_count": null,
   "metadata": {
    "collapsed": true
   },
   "outputs": [],
   "source": []
  }
 ],
 "metadata": {
  "kernelspec": {
   "display_name": "Python 3",
   "language": "python",
   "name": "python3"
  },
  "language_info": {
   "codemirror_mode": {
    "name": "ipython",
    "version": 3
   },
   "file_extension": ".py",
   "mimetype": "text/x-python",
   "name": "python",
   "nbconvert_exporter": "python",
   "pygments_lexer": "ipython3",
   "version": "3.6.1"
  }
 },
 "nbformat": 4,
 "nbformat_minor": 2
}
