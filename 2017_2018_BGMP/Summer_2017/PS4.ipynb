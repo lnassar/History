{
 "cells": [
  {
   "cell_type": "markdown",
   "metadata": {},
   "source": [
    "# Bi 621 – Problem Set 4\n",
    "## Due before class, Thursday, July 13\n",
    "\n",
    "Our goal with this assignment is to assess the overall quality of a lane of Illumina sequencing data. We will be working with (part of) a lane of 101bp long Illumina sequence data. Our first goal is to calculate the average quality score along each of the 101bp of data we have. Once that is complete, we will extend our calculations to include variance and standard deviation, and in part 3, the median. Finally, you will calculate and then plot the distribution of quality scores at two particular basepair positions.\n",
    "\n",
    "This assigment will take you through the algorithms step-wise. In the real world, you would update the original code to add functionality. However, since this is auto-graded, please \"write new code\" for each step instead of simply updating the code you have written previously."
   ]
  },
  {
   "cell_type": "markdown",
   "metadata": {},
   "source": [
    "#### Part 1\n",
    "1. Copy the file ```lane1_NoIndex_L001_R1_003.fastq.gz``` from HPC to the folder **directly above** PS4 folder and reference it with the relative file path (the automated grading will fail if you do not follow this direction). This file contains 4 million Illumina reads from a stickleback experiment.\n",
    "2. Create an array called ```mean_scores``` that contains 101 elements, each a float value initialized to ```0.0```."
   ]
  },
  {
   "cell_type": "code",
   "execution_count": 1,
   "metadata": {
    "deletable": false,
    "nbgrader": {
     "checksum": "e4134cd55253549cf0c32860788b4398",
     "grade": false,
     "grade_id": "init_array",
     "locked": false,
     "schema_version": 1,
     "solution": true
    }
   },
   "outputs": [
    {
     "name": "stdout",
     "output_type": "stream",
     "text": [
      "0.0\n"
     ]
    }
   ],
   "source": [
    "mean_scores = []\n",
    "for i in range(101):\n",
    "    mean_scores.append(0.0)\n",
    "#print (mean_scores)\n",
    "#int((4/4)-1)\n",
    "print (mean_scores[100])"
   ]
  },
  {
   "cell_type": "markdown",
   "metadata": {},
   "source": [
    "# <font color=red> The next cell contains tests for the autograder. Do not change!"
   ]
  },
  {
   "cell_type": "code",
   "execution_count": 2,
   "metadata": {
    "collapsed": true,
    "deletable": false,
    "editable": false,
    "nbgrader": {
     "checksum": "beae930e029dab13daa99c5c74c7ff03",
     "grade": true,
     "grade_id": "check_empty_array",
     "locked": true,
     "points": 1,
     "schema_version": 1,
     "solution": false
    }
   },
   "outputs": [],
   "source": [
    "assert len(mean_scores) == 101\n",
    "assert mean_scores[54] == 0.0"
   ]
  },
  {
   "cell_type": "markdown",
   "metadata": {},
   "source": [
    "3. Open the FASTQ file and loop through every record (*recommend testing your code with a smaller subsample of the file*). Convert the Phred quality score from a letter to its corresponding number and add it to an ongoing sum of the quality scores for each base pair. So, the quality score of the first nucleotide of every read will be summed together in position 0 of the array you create. Likewise, the quality scores of the 101th nucleotide will be stored in position 100 of the array.\n",
    "4. Keep a counter called ```NR``` to keep track of the total number of lines in the file."
   ]
  },
  {
   "cell_type": "code",
   "execution_count": 3,
   "metadata": {
    "deletable": false,
    "nbgrader": {
     "checksum": "1b2839cc64c21c6e66ce96331f8ed839",
     "grade": false,
     "grade_id": "populate_qual_scores",
     "locked": false,
     "schema_version": 1,
     "solution": true
    }
   },
   "outputs": [
    {
     "name": "stdout",
     "output_type": "stream",
     "text": [
      "500000\n",
      "1000000\n",
      "1500000\n",
      "2000000\n",
      "2500000\n",
      "3000000\n",
      "3500000\n",
      "4000000\n",
      "4500000\n",
      "5000000\n",
      "5500000\n",
      "6000000\n",
      "6500000\n",
      "7000000\n",
      "7500000\n",
      "8000000\n",
      "8500000\n",
      "9000000\n",
      "9500000\n",
      "10000000\n",
      "10500000\n",
      "11000000\n",
      "11500000\n",
      "12000000\n",
      "12500000\n",
      "13000000\n",
      "13500000\n",
      "14000000\n",
      "14500000\n",
      "15000000\n",
      "15500000\n",
      "16000000\n",
      "16000000\n",
      "[128569832.0, 129955000.0, 130152756.0, 143193097.0, 142560058.0, 142735776.0, 144147154.0, 144874873.0, 152909739.0, 152231586.0, 152684471.0, 152606648.0, 148525137.0, 153908471.0, 153802650.0, 153048642.0, 153073269.0, 152871222.0, 152541135.0, 152340346.0, 152328419.0, 151711954.0, 151722802.0, 151667570.0, 151069689.0, 151104371.0, 150687769.0, 150403702.0, 150064290.0, 149549938.0, 149350552.0, 149843901.0, 150173777.0, 149896596.0, 149709729.0, 149494051.0, 149042583.0, 148731300.0, 148612738.0, 148081339.0, 148018035.0, 147751809.0, 147325106.0, 146737857.0, 146142046.0, 145433175.0, 145113295.0, 144383287.0, 143416343.0, 142914506.0, 142617221.0, 141531748.0, 141050749.0, 140439299.0, 139813864.0, 139021898.0, 138256669.0, 136994387.0, 136278288.0, 135401719.0, 134460102.0, 133890330.0, 134192586.0, 133624491.0, 133333175.0, 132959275.0, 132219574.0, 131669343.0, 130951785.0, 130275619.0, 129508774.0, 128657293.0, 128101852.0, 127473235.0, 126783748.0, 121149285.0, 123769805.0, 125132601.0, 125361116.0, 125361992.0, 124941773.0, 124250119.0, 123893821.0, 123444591.0, 122797790.0, 122260403.0, 121654215.0, 121481266.0, 120993976.0, 120488393.0, 120037609.0, 119753727.0, 118964379.0, 118204055.0, 117765212.0, 117200803.0, 116059168.0, 115393184.0, 114431431.0, 113099031.0, 101933304.0]\n"
     ]
    }
   ],
   "source": [
    "my_file=open(\"../lane1_NoIndex_L001_R1_003.fastq\")\n",
    "quality_lines = []\n",
    "\n",
    "NR = 0\n",
    "\n",
    "#To convert phred scores to numbers\n",
    "def convert_phred(letter):\n",
    "    \"\"\"Converts a single character into a phred score\"\"\"\n",
    "    QScore = ord(letter) - 33\n",
    "    return QScore\n",
    "\n",
    "#Populate the mean scores\n",
    "for lines in my_file:\n",
    "    NR = NR + 1\n",
    "    if NR%500000==0:\n",
    "        print (NR)\n",
    "    if NR%4 == 0:\n",
    "        quality_lines.append(lines)\n",
    "        for i in range((len(lines)-1)):\n",
    "            mean_scores[i] = mean_scores[i] + convert_phred(lines[i])\n",
    "\n",
    "#Some quality assurance\n",
    "print(NR)\n",
    "print (mean_scores)\n",
    "my_file.close()"
   ]
  },
  {
   "cell_type": "markdown",
   "metadata": {},
   "source": [
    "# <font color=red> The next cell contains tests for the autograder. Do not change!"
   ]
  },
  {
   "cell_type": "code",
   "execution_count": 5,
   "metadata": {
    "collapsed": true,
    "deletable": false,
    "editable": false,
    "nbgrader": {
     "checksum": "eeaf6ffa46bb9264eeb2e5f1107c1830",
     "grade": true,
     "grade_id": "get_sum",
     "locked": true,
     "points": 1,
     "schema_version": 1,
     "solution": false
    }
   },
   "outputs": [],
   "source": [
    "assert len(mean_scores) == 101\n",
    "assert mean_scores[54] == 139813864.0\n",
    "assert mean_scores[70] == 129508774.0"
   ]
  },
  {
   "cell_type": "markdown",
   "metadata": {},
   "source": [
    "1.\tOnce you have completed summing the quality values, you will calculate the mean quality value at each base and store it back in the array at the appropriate position.\n",
    "2.\tFinally, you will print to the terminal the mean quality scores from the Illumina reads, like this:\n",
    "```\n",
    "# Base Pair\tMean Quality Score\n",
    "0\t\t33.8\n",
    "1\t\t27.2\n",
    "2\t\t31.9\n",
    "...\n",
    "```\n",
    "3.\tPlot these results any way you know how: using Excel, R, gnuplot... \n",
    "\n",
    "    **Challenge** - plot these results inline in your Jupyter Notebook.\n",
    "> *Hint* - if tackling the challenge, look into matplotlib and the \"magic\" command \n",
    "```\n",
    "% matplotlib inline\n",
    "```\n"
   ]
  },
  {
   "cell_type": "code",
   "execution_count": 6,
   "metadata": {
    "deletable": false,
    "nbgrader": {
     "checksum": "5c82ecd99ddcabc8b4ac37c585e21a7b",
     "grade": true,
     "grade_id": "Avg_qual_score",
     "locked": false,
     "points": 2,
     "schema_version": 1,
     "solution": true
    }
   },
   "outputs": [
    {
     "name": "stdout",
     "output_type": "stream",
     "text": [
      "# Base Pair \t Mean Quality Score\n",
      "0 \t 32.142458\n",
      "1 \t 32.48875\n",
      "2 \t 32.538189\n",
      "3 \t 35.79827425\n",
      "4 \t 35.6400145\n",
      "5 \t 35.683944\n",
      "6 \t 36.0367885\n",
      "7 \t 36.21871825\n",
      "8 \t 38.22743475\n",
      "9 \t 38.0578965\n",
      "10 \t 38.17111775\n",
      "11 \t 38.151662\n",
      "12 \t 37.13128425\n",
      "13 \t 38.47711775\n",
      "14 \t 38.4506625\n",
      "15 \t 38.2621605\n",
      "16 \t 38.26831725\n",
      "17 \t 38.2178055\n",
      "18 \t 38.13528375\n",
      "19 \t 38.0850865\n",
      "20 \t 38.08210475\n",
      "21 \t 37.9279885\n",
      "22 \t 37.9307005\n",
      "23 \t 37.9168925\n",
      "24 \t 37.76742225\n",
      "25 \t 37.77609275\n",
      "26 \t 37.67194225\n",
      "27 \t 37.6009255\n",
      "28 \t 37.5160725\n",
      "29 \t 37.3874845\n",
      "30 \t 37.337638\n",
      "31 \t 37.46097525\n",
      "32 \t 37.54344425\n",
      "33 \t 37.474149\n",
      "34 \t 37.42743225\n",
      "35 \t 37.37351275\n",
      "36 \t 37.26064575\n",
      "37 \t 37.182825\n",
      "38 \t 37.1531845\n",
      "39 \t 37.02033475\n",
      "40 \t 37.00450875\n",
      "41 \t 36.93795225\n",
      "42 \t 36.8312765\n",
      "43 \t 36.68446425\n",
      "44 \t 36.5355115\n",
      "45 \t 36.35829375\n",
      "46 \t 36.27832375\n",
      "47 \t 36.09582175\n",
      "48 \t 35.85408575\n",
      "49 \t 35.7286265\n",
      "50 \t 35.65430525\n",
      "51 \t 35.382937\n",
      "52 \t 35.26268725\n",
      "53 \t 35.10982475\n",
      "54 \t 34.953466\n",
      "55 \t 34.7554745\n",
      "56 \t 34.56416725\n",
      "57 \t 34.24859675\n",
      "58 \t 34.069572\n",
      "59 \t 33.85042975\n",
      "60 \t 33.6150255\n",
      "61 \t 33.4725825\n",
      "62 \t 33.5481465\n",
      "63 \t 33.40612275\n",
      "64 \t 33.33329375\n",
      "65 \t 33.23981875\n",
      "66 \t 33.0548935\n",
      "67 \t 32.91733575\n",
      "68 \t 32.73794625\n",
      "69 \t 32.56890475\n",
      "70 \t 32.3771935\n",
      "71 \t 32.16432325\n",
      "72 \t 32.025463\n",
      "73 \t 31.86830875\n",
      "74 \t 31.695937\n",
      "75 \t 30.28732125\n",
      "76 \t 30.94245125\n",
      "77 \t 31.28315025\n",
      "78 \t 31.340279\n",
      "79 \t 31.340498\n",
      "80 \t 31.23544325\n",
      "81 \t 31.06252975\n",
      "82 \t 30.97345525\n",
      "83 \t 30.86114775\n",
      "84 \t 30.6994475\n",
      "85 \t 30.56510075\n",
      "86 \t 30.41355375\n",
      "87 \t 30.3703165\n",
      "88 \t 30.248494\n",
      "89 \t 30.12209825\n",
      "90 \t 30.00940225\n",
      "91 \t 29.93843175\n",
      "92 \t 29.74109475\n",
      "93 \t 29.55101375\n",
      "94 \t 29.441303\n",
      "95 \t 29.30020075\n",
      "96 \t 29.014792\n",
      "97 \t 28.848296\n",
      "98 \t 28.60785775\n",
      "99 \t 28.27475775\n",
      "100 \t 25.483326\n"
     ]
    }
   ],
   "source": [
    "for i in range(101):\n",
    "    mean_scores[i]=mean_scores[i]/4000000\n",
    "print (\"# Base Pair\",\"\\t\",\"Mean Quality Score\")\n",
    "for i in range(101):\n",
    "    print(i,\"\\t\",mean_scores[i])"
   ]
  },
  {
   "cell_type": "code",
   "execution_count": 7,
   "metadata": {
    "deletable": false,
    "nbgrader": {
     "checksum": "36fc3d8da860199d228221a7b8df37a0",
     "grade": true,
     "grade_id": "mean_plot",
     "locked": false,
     "points": 1,
     "schema_version": 1,
     "solution": true
    }
   },
   "outputs": [
    {
     "name": "stdout",
     "output_type": "stream",
     "text": [
      "PS4_Mean_QS.pdf\n"
     ]
    }
   ],
   "source": [
    "#Use this cell to generate your plot in Jupyter.\n",
    "#Otherwise, issue a print statement so that the name of your plot file is printed.\n",
    "\n",
    "print(\"PS4_Mean_QS.pdf\")"
   ]
  },
  {
   "cell_type": "markdown",
   "metadata": {},
   "source": [
    "# Part 2 – Extended statistics \n",
    "\n",
    "Calculate the variance and the standard deviation for each position in the Illumina reads. Do not use any statistics packages for this assigment.\n",
    "\n",
    "1.\tYou will now create two additional arrays of the same size, one to hold the variance (called ```var```) and one to hold the standard deviation (called ```stdev```) for each position in the read.\n",
    "2. Modify your print code to include two additional columns to print the variance and standard deviation along with the mean. Include the standard deviation in a new plot."
   ]
  },
  {
   "cell_type": "code",
   "execution_count": 8,
   "metadata": {
    "deletable": false,
    "nbgrader": {
     "checksum": "5d454551b7798f4e4207b105e67b24be",
     "grade": false,
     "grade_id": "Extended_stats",
     "locked": false,
     "schema_version": 1,
     "solution": true
    }
   },
   "outputs": [
    {
     "name": "stdout",
     "output_type": "stream",
     "text": [
      "The mean is 34.34788233663367\n",
      "# Base Pair \t Mean Quality Score \t Variance \t Standard Deviation\n",
      "0 \t\t 32.142458 \t 12.952700218371163 \t 3.598985998635055\n",
      "1 \t\t 32.48875 \t 10.880134937695138 \t 3.2985049549296024\n",
      "2 \t\t 32.538189 \t 10.222612600400359 \t 3.197282064566772\n",
      "3 \t\t 35.79827425 \t 13.607210971709382 \t 3.688795327977602\n",
      "4 \t\t 35.6400145 \t 16.405214938805866 \t 4.050335163761867\n",
      "5 \t\t 35.683944 \t 16.74728160598006 \t 4.092344267773676\n",
      "6 \t\t 36.0367885 \t 7.815591605858491 \t 2.7956379604409602\n",
      "7 \t\t 36.21871825 \t 8.036954576788029 \t 2.8349523059106354\n",
      "8 \t\t 38.22743475 \t 10.666837684751082 \t 3.266012505296188\n",
      "9 \t\t 38.0578965 \t 12.03730649490885 \t 3.469482165238618\n",
      "10 \t\t 38.17111775 \t 11.333607464793001 \t 3.36654236046318\n",
      "11 \t\t 38.151662 \t 11.807116137183005 \t 3.4361484451610944\n",
      "12 \t\t 37.13128425 \t 27.840401696013693 \t 5.276400448792121\n",
      "13 \t\t 38.47711775 \t 36.09485990234785 \t 6.0078997913037675\n",
      "14 \t\t 38.4506625 \t 36.93192431221588 \t 6.077164166962735\n",
      "15 \t\t 38.2621605 \t 40.84198987312479 \t 6.390773808634193\n",
      "16 \t\t 38.26831725 \t 40.58089160197402 \t 6.370313304851969\n",
      "17 \t\t 38.2178055 \t 42.27536176509091 \t 6.5019506123232675\n",
      "18 \t\t 38.13528375 \t 45.08207455767075 \t 6.714318621995143\n",
      "19 \t\t 38.0850865 \t 45.99902178624699 \t 6.782257867867234\n",
      "20 \t\t 38.08210475 \t 46.249774060966125 \t 6.800718642979294\n",
      "21 \t\t 37.9279885 \t 48.20084434560245 \t 6.94268279165932\n",
      "22 \t\t 37.9307005 \t 48.31301707988857 \t 6.950756583271246\n",
      "23 \t\t 37.9168925 \t 48.833109142263325 \t 6.988069056775507\n",
      "24 \t\t 37.76742225 \t 50.55906534086687 \t 7.11048981019359\n",
      "25 \t\t 37.77609275 \t 50.86549229522403 \t 7.1320047879417485\n",
      "26 \t\t 37.67194225 \t 52.221783860847424 \t 7.226464132675636\n",
      "27 \t\t 37.6009255 \t 52.88080504253976 \t 7.271918938116662\n",
      "28 \t\t 37.5160725 \t 54.21834917557843 \t 7.36331101988626\n",
      "29 \t\t 37.3874845 \t 55.56459226179312 \t 7.454166101033242\n",
      "30 \t\t 37.337638 \t 54.408547081506704 \t 7.376214956297485\n",
      "31 \t\t 37.46097525 \t 54.87582706777441 \t 7.407822019175029\n",
      "32 \t\t 37.54344425 \t 54.08653559836713 \t 7.354354873023679\n",
      "33 \t\t 37.474149 \t 55.31477922640143 \t 7.437390619457972\n",
      "34 \t\t 37.42743225 \t 56.669778921773094 \t 7.527933243711257\n",
      "35 \t\t 37.37351275 \t 57.458895475277906 \t 7.5801646073998885\n",
      "36 \t\t 37.26064575 \t 59.012464541591044 \t 7.681957077567606\n",
      "37 \t\t 37.182825 \t 59.92894851806383 \t 7.741378980392565\n",
      "38 \t\t 37.1531845 \t 60.535323008091574 \t 7.780444910677767\n",
      "39 \t\t 37.02033475 \t 62.15532125022775 \t 7.883864613895127\n",
      "40 \t\t 37.00450875 \t 62.3257979232098 \t 7.894668955897378\n",
      "41 \t\t 36.93795225 \t 63.299527326200845 \t 7.956100007302626\n",
      "42 \t\t 36.8312765 \t 64.61587687810368 \t 8.038400144189369\n",
      "43 \t\t 36.68446425 \t 66.24383593911183 \t 8.139031633991346\n",
      "44 \t\t 36.5355115 \t 67.60667593153266 \t 8.222327890052346\n",
      "45 \t\t 36.35829375 \t 69.4599953398949 \t 8.334266334830852\n",
      "46 \t\t 36.27832375 \t 70.01837464096309 \t 8.367698288117413\n",
      "47 \t\t 36.09582175 \t 72.08625644082186 \t 8.490362562389302\n",
      "48 \t\t 35.85408575 \t 74.03334728124689 \t 8.604263320078418\n",
      "49 \t\t 35.7286265 \t 74.56712342392059 \t 8.63522573091871\n",
      "50 \t\t 35.65430525 \t 74.57443889468446 \t 8.635649303595212\n",
      "51 \t\t 35.382937 \t 76.88448275567981 \t 8.768379710965979\n",
      "52 \t\t 35.26268725 \t 77.48673315815286 \t 8.802654892596486\n",
      "53 \t\t 35.10982475 \t 77.83423777471161 \t 8.82237143713138\n",
      "54 \t\t 34.953466 \t 78.39560158546303 \t 8.854129069844364\n",
      "55 \t\t 34.7554745 \t 79.45757927987385 \t 8.91389809678537\n",
      "56 \t\t 34.56416725 \t 80.47486306462852 \t 8.970778286449205\n",
      "57 \t\t 34.24859675 \t 82.7672419058345 \t 9.097650350823255\n",
      "58 \t\t 34.069572 \t 83.22041923570298 \t 9.122522635527027\n",
      "59 \t\t 33.85042975 \t 83.85830998899961 \t 9.157418303703267\n",
      "60 \t\t 33.6150255 \t 84.40649813311019 \t 9.187300916651756\n",
      "61 \t\t 33.4725825 \t 84.76138728121794 \t 9.2065947712071\n",
      "62 \t\t 33.5481465 \t 83.8294079149816 \t 9.155840098810245\n",
      "63 \t\t 33.40612275 \t 84.60224106175872 \t 9.19794765487164\n",
      "64 \t\t 33.33329375 \t 84.05424602616455 \t 9.168110275632845\n",
      "65 \t\t 33.23981875 \t 83.33322271863912 \t 9.128703233134436\n",
      "66 \t\t 33.0548935 \t 83.65975470320365 \t 9.146570652610936\n",
      "67 \t\t 32.91733575 \t 83.23365537301177 \t 9.1232480714388\n",
      "68 \t\t 32.73794625 \t 83.4656185826031 \t 9.135951980095074\n",
      "69 \t\t 32.56890475 \t 83.44974413646531 \t 9.135083148853399\n",
      "70 \t\t 32.3771935 \t 83.34844456367834 \t 9.129536930407715\n",
      "71 \t\t 32.16432325 \t 84.16248561962686 \t 9.174011424650988\n",
      "72 \t\t 32.025463 \t 84.00785463149336 \t 9.165579885173297\n",
      "73 \t\t 31.86830875 \t 84.20107566565068 \t 9.176114410013133\n",
      "74 \t\t 31.695937 \t 84.65350469116184 \t 9.20073392133268\n",
      "75 \t\t 30.28732125 \t 81.24797724983777 \t 9.013765985970446\n",
      "76 \t\t 30.94245125 \t 82.57412639004744 \t 9.087030669588797\n",
      "77 \t\t 31.28315025 \t 83.31254268479213 \t 9.127570469998691\n",
      "78 \t\t 31.340279 \t 83.80572070013976 \t 9.154546449723206\n",
      "79 \t\t 31.340498 \t 83.93234461676349 \t 9.161459742680938\n",
      "80 \t\t 31.23544325 \t 84.81540122323243 \t 9.209527741596332\n",
      "81 \t\t 31.06252975 \t 86.1588792785196 \t 9.282180739380138\n",
      "82 \t\t 30.97345525 \t 86.90894362743315 \t 9.322496641320562\n",
      "83 \t\t 30.86114775 \t 87.95285980180901 \t 9.378318602063432\n",
      "84 \t\t 30.6994475 \t 89.5636141962187 \t 9.46380548174035\n",
      "85 \t\t 30.56510075 \t 90.94680189360346 \t 9.53660326812453\n",
      "86 \t\t 30.41355375 \t 92.73932204403393 \t 9.630125754320861\n",
      "87 \t\t 30.3703165 \t 93.52122769189366 \t 9.670637398429003\n",
      "88 \t\t 30.248494 \t 95.23140223483622 \t 9.758657809086055\n",
      "89 \t\t 30.12209825 \t 96.93030726598515 \t 9.84531905353936\n",
      "90 \t\t 30.00940225 \t 98.67662734771123 \t 9.93361099236885\n",
      "91 \t\t 29.93843175 \t 100.34008860213656 \t 10.016989997106744\n",
      "92 \t\t 29.74109475 \t 103.5947328196479 \t 10.17814977388562\n",
      "93 \t\t 29.55101375 \t 106.56350009583424 \t 10.322959851507427\n",
      "94 \t\t 29.441303 \t 109.06364366384379 \t 10.443354042827611\n",
      "95 \t\t 29.30020075 \t 112.46938026079094 \t 10.605158191219541\n",
      "96 \t\t 29.014792 \t 117.48335769622412 \t 10.838974014925219\n",
      "97 \t\t 28.848296 \t 122.0477213980118 \t 11.047521052164228\n",
      "98 \t\t 28.60785775 \t 128.20698820419807 \t 11.322852476483039\n",
      "99 \t\t 28.27475775 \t 135.97499343040755 \t 11.66083159257553\n",
      "100 \t\t 25.483326 \t 138.51283297838611 \t 11.769147504317639\n"
     ]
    },
    {
     "data": {
      "image/png": "[encoded data removed]",
      "text/plain": [
       "<matplotlib.figure.Figure at 0x2b679baa0b8>"
      ]
     },
     "metadata": {},
     "output_type": "display_data"
    }
   ],
   "source": [
    "my_file=open(\"../lane1_NoIndex_L001_R1_003.fastq\")\n",
    "\n",
    "NR = 0\n",
    "var=[]\n",
    "stdev=[]\n",
    "\n",
    "from math import sqrt\n",
    "\n",
    "#Find mean for whole position data set\n",
    "mean=0\n",
    "mean = sum(mean_scores) / len(mean_scores)\n",
    "\n",
    "print(\"The mean is\",mean)\n",
    "\n",
    "#Make the variance and stdev lists\n",
    "for i in range(101):\n",
    "    var.append(0)\n",
    "    stdev.append(0)\n",
    "\n",
    "#Calculate the variance of the data set\n",
    "for i in range(101):\n",
    "    qualitylist=[]\n",
    "    for lines in quality_lines:\n",
    "        qualitylist.append(convert_phred(lines[i]))\n",
    "    var[i] = sum([(scores-mean_scores[i])**2 for scores in qualitylist])/((len(qualitylist)))\n",
    "\n",
    "#Calculate the stdev of data set\n",
    "for i in range(101):\n",
    "    stdev[i]=sqrt(var[i])\n",
    "\n",
    "#Print my tables\n",
    "print (\"# Base Pair\",\"\\t\",\"Mean Quality Score\",\"\\t\",\"Variance\",\"\\t\",\"Standard Deviation\")\n",
    "for i in range(101):\n",
    "    print(i,\"\\t\\t\",mean_scores[i],\"\\t\",var[i],\"\\t\",stdev[i])\n",
    "\n",
    "my_file.close()\n",
    "\n",
    "#Print the name of the stdev plot\n",
    "print(\"PS4_stdev_plot.pdf\")"
   ]
  },
  {
   "cell_type": "markdown",
   "metadata": {},
   "source": [
    "# <font color=red> The next cell contains tests for the autograder. Do not change!"
   ]
  },
  {
   "cell_type": "code",
   "execution_count": 11,
   "metadata": {
    "collapsed": true,
    "deletable": false,
    "editable": false,
    "nbgrader": {
     "checksum": "1e99b0a32430d0c8eff514d5918baa34",
     "grade": true,
     "grade_id": "grade_var_stdev",
     "locked": true,
     "points": 3,
     "schema_version": 1,
     "solution": false
    }
   },
   "outputs": [],
   "source": [
    "assert len(var) == 101\n",
    "assert len(stdev) == 101\n",
    "assert type(var[54]) == float\n",
    "assert type(stdev[54]) == float\n",
    "assert var[54] == 78.39560158546303\n",
    "assert stdev[54] == 8.854129069844364\n",
    "assert var[89] == 96.93030726598515\n",
    "assert stdev[89] == 9.84531905353936"
   ]
  },
  {
   "cell_type": "markdown",
   "metadata": {},
   "source": [
    "# Part 3\n",
    "You will now calculate the median value of each position in the read as well as the full distribution for nucleotide positions 6 and 95.\n",
    "\n",
    "**Warning - be aware this portion is computationally intense. It will talk some time to finish running. You may want to incorporate some print statments to assure yourself your program is progressing.**\n",
    "\n",
    "1.\tYou will need create a two dimensional array (called ```all_qscores```). Instead of initializing each position in your one dimensional array to 0.0, you will instead initialize each position to another empty array.\n",
    "2.\tInstead of simply summing each value at a particular position in the read, now you are going to store all values for that nucleotide position in the array. So, position 5 of your first array will contain an array with all the quality scores for that position from all the Illumina reads in the data set.\n",
    "3.\tSort the values at each position in the array and determine the median value (store in an array called ```median```). Your program should now print for each position in the read: Base Pair, Mean, Variance, Stdev, and Median.\n",
    "4.\tOpen a new file for writing called ```p6.tsv``` - for position 6 in the array, sum the number of occurrences of each quality score and print it out to the file.\n",
    "\n",
    "    >*Summing the number of occurrences will give you a distribution of quality scores, that occurred in position 6 across all the reads in our data set.*\n",
    "    \n",
    "5.\tRepeat this process for position 95 in the array in a file called ```p95.tsv```.\n",
    "6.\tPlot the distribution of quality scores for these two positions. If you would like to challenge yourself, plot inline with matlabplot.\n"
   ]
  },
  {
   "cell_type": "code",
   "execution_count": 10,
   "metadata": {
    "deletable": false,
    "nbgrader": {
     "checksum": "4b89f62d0f617e4899d484e5bf6bb81d",
     "grade": false,
     "grade_id": "array_of_arrays",
     "locked": false,
     "schema_version": 1,
     "solution": true
    }
   },
   "outputs": [
    {
     "name": "stdout",
     "output_type": "stream",
     "text": [
      "500000\n",
      "1000000\n",
      "1500000\n",
      "2000000\n",
      "2500000\n",
      "3000000\n",
      "3500000\n",
      "4000000\n",
      "4500000\n",
      "5000000\n",
      "5500000\n",
      "6000000\n",
      "6500000\n",
      "7000000\n",
      "7500000\n",
      "8000000\n",
      "8500000\n",
      "9000000\n",
      "9500000\n",
      "10000000\n",
      "10500000\n",
      "11000000\n",
      "11500000\n",
      "12000000\n",
      "12500000\n",
      "13000000\n",
      "13500000\n",
      "14000000\n",
      "14500000\n",
      "15000000\n",
      "15500000\n",
      "16000000\n",
      "0\n",
      "20\n",
      "40\n",
      "60\n",
      "80\n",
      "100\n",
      "# Base Pair \t Mean Quality Score \t Variance \t Standard Deviation \t Median\n",
      "0 \t\t 32.142458 \t 12.952700218371163 \t 3.598985998635055 \t 34\n",
      "1 \t\t 32.48875 \t 10.880134937695138 \t 3.2985049549296024 \t 34\n",
      "2 \t\t 32.538189 \t 10.222612600400359 \t 3.197282064566772 \t 34\n",
      "3 \t\t 35.79827425 \t 13.607210971709382 \t 3.688795327977602 \t 37\n",
      "4 \t\t 35.6400145 \t 16.405214938805866 \t 4.050335163761867 \t 37\n",
      "5 \t\t 35.683944 \t 16.74728160598006 \t 4.092344267773676 \t 37\n",
      "6 \t\t 36.0367885 \t 7.815591605858491 \t 2.7956379604409602 \t 37\n",
      "7 \t\t 36.21871825 \t 8.036954576788029 \t 2.8349523059106354 \t 37\n",
      "8 \t\t 38.22743475 \t 10.666837684751082 \t 3.266012505296188 \t 39\n",
      "9 \t\t 38.0578965 \t 12.03730649490885 \t 3.469482165238618 \t 39\n",
      "10 \t\t 38.17111775 \t 11.333607464793001 \t 3.36654236046318 \t 39\n",
      "11 \t\t 38.151662 \t 11.807116137183005 \t 3.4361484451610944 \t 39\n",
      "12 \t\t 37.13128425 \t 27.840401696013693 \t 5.276400448792121 \t 39\n",
      "13 \t\t 38.47711775 \t 36.09485990234785 \t 6.0078997913037675 \t 41\n",
      "14 \t\t 38.4506625 \t 36.93192431221588 \t 6.077164166962735 \t 41\n",
      "15 \t\t 38.2621605 \t 40.84198987312479 \t 6.390773808634193 \t 40\n",
      "16 \t\t 38.26831725 \t 40.58089160197402 \t 6.370313304851969 \t 40\n",
      "17 \t\t 38.2178055 \t 42.27536176509091 \t 6.5019506123232675 \t 40\n",
      "18 \t\t 38.13528375 \t 45.08207455767075 \t 6.714318621995143 \t 40\n",
      "19 \t\t 38.0850865 \t 45.99902178624699 \t 6.782257867867234 \t 40\n",
      "20 \t\t 38.08210475 \t 46.249774060966125 \t 6.800718642979294 \t 40\n",
      "21 \t\t 37.9279885 \t 48.20084434560245 \t 6.94268279165932 \t 40\n",
      "22 \t\t 37.9307005 \t 48.31301707988857 \t 6.950756583271246 \t 40\n",
      "23 \t\t 37.9168925 \t 48.833109142263325 \t 6.988069056775507 \t 40\n",
      "24 \t\t 37.76742225 \t 50.55906534086687 \t 7.11048981019359 \t 40\n",
      "25 \t\t 37.77609275 \t 50.86549229522403 \t 7.1320047879417485 \t 40\n",
      "26 \t\t 37.67194225 \t 52.221783860847424 \t 7.226464132675636 \t 40\n",
      "27 \t\t 37.6009255 \t 52.88080504253976 \t 7.271918938116662 \t 40\n",
      "28 \t\t 37.5160725 \t 54.21834917557843 \t 7.36331101988626 \t 40\n",
      "29 \t\t 37.3874845 \t 55.56459226179312 \t 7.454166101033242 \t 40\n",
      "30 \t\t 37.337638 \t 54.408547081506704 \t 7.376214956297485 \t 40\n",
      "31 \t\t 37.46097525 \t 54.87582706777441 \t 7.407822019175029 \t 40\n",
      "32 \t\t 37.54344425 \t 54.08653559836713 \t 7.354354873023679 \t 40\n",
      "33 \t\t 37.474149 \t 55.31477922640143 \t 7.437390619457972 \t 40\n",
      "34 \t\t 37.42743225 \t 56.669778921773094 \t 7.527933243711257 \t 40\n",
      "35 \t\t 37.37351275 \t 57.458895475277906 \t 7.5801646073998885 \t 40\n",
      "36 \t\t 37.26064575 \t 59.012464541591044 \t 7.681957077567606 \t 40\n",
      "37 \t\t 37.182825 \t 59.92894851806383 \t 7.741378980392565 \t 40\n",
      "38 \t\t 37.1531845 \t 60.535323008091574 \t 7.780444910677767 \t 40\n",
      "39 \t\t 37.02033475 \t 62.15532125022775 \t 7.883864613895127 \t 40\n",
      "40 \t\t 37.00450875 \t 62.3257979232098 \t 7.894668955897378 \t 40\n",
      "41 \t\t 36.93795225 \t 63.299527326200845 \t 7.956100007302626 \t 40\n",
      "42 \t\t 36.8312765 \t 64.61587687810368 \t 8.038400144189369 \t 40\n",
      "43 \t\t 36.68446425 \t 66.24383593911183 \t 8.139031633991346 \t 40\n",
      "44 \t\t 36.5355115 \t 67.60667593153266 \t 8.222327890052346 \t 40\n",
      "45 \t\t 36.35829375 \t 69.4599953398949 \t 8.334266334830852 \t 40\n",
      "46 \t\t 36.27832375 \t 70.01837464096309 \t 8.367698288117413 \t 39\n",
      "47 \t\t 36.09582175 \t 72.08625644082186 \t 8.490362562389302 \t 39\n",
      "48 \t\t 35.85408575 \t 74.03334728124689 \t 8.604263320078418 \t 39\n",
      "49 \t\t 35.7286265 \t 74.56712342392059 \t 8.63522573091871 \t 39\n",
      "50 \t\t 35.65430525 \t 74.57443889468446 \t 8.635649303595212 \t 39\n",
      "51 \t\t 35.382937 \t 76.88448275567981 \t 8.768379710965979 \t 38\n",
      "52 \t\t 35.26268725 \t 77.48673315815286 \t 8.802654892596486 \t 38\n",
      "53 \t\t 35.10982475 \t 77.83423777471161 \t 8.82237143713138 \t 38\n",
      "54 \t\t 34.953466 \t 78.39560158546303 \t 8.854129069844364 \t 38\n",
      "55 \t\t 34.7554745 \t 79.45757927987385 \t 8.91389809678537 \t 37\n",
      "56 \t\t 34.56416725 \t 80.47486306462852 \t 8.970778286449205 \t 37\n",
      "57 \t\t 34.24859675 \t 82.7672419058345 \t 9.097650350823255 \t 37\n",
      "58 \t\t 34.069572 \t 83.22041923570298 \t 9.122522635527027 \t 36\n",
      "59 \t\t 33.85042975 \t 83.85830998899961 \t 9.157418303703267 \t 36\n",
      "60 \t\t 33.6150255 \t 84.40649813311019 \t 9.187300916651756 \t 36\n",
      "61 \t\t 33.4725825 \t 84.76138728121794 \t 9.2065947712071 \t 35\n",
      "62 \t\t 33.5481465 \t 83.8294079149816 \t 9.155840098810245 \t 35\n",
      "63 \t\t 33.40612275 \t 84.60224106175872 \t 9.19794765487164 \t 35\n",
      "64 \t\t 33.33329375 \t 84.05424602616455 \t 9.168110275632845 \t 35\n",
      "65 \t\t 33.23981875 \t 83.33322271863912 \t 9.128703233134436 \t 35\n",
      "66 \t\t 33.0548935 \t 83.65975470320365 \t 9.146570652610936 \t 35\n",
      "67 \t\t 32.91733575 \t 83.23365537301177 \t 9.1232480714388 \t 35\n",
      "68 \t\t 32.73794625 \t 83.4656185826031 \t 9.135951980095074 \t 35\n",
      "69 \t\t 32.56890475 \t 83.44974413646531 \t 9.135083148853399 \t 35\n",
      "70 \t\t 32.3771935 \t 83.34844456367834 \t 9.129536930407715 \t 35\n",
      "71 \t\t 32.16432325 \t 84.16248561962686 \t 9.174011424650988 \t 35\n",
      "72 \t\t 32.025463 \t 84.00785463149336 \t 9.165579885173297 \t 35\n",
      "73 \t\t 31.86830875 \t 84.20107566565068 \t 9.176114410013133 \t 35\n",
      "74 \t\t 31.695937 \t 84.65350469116184 \t 9.20073392133268 \t 35\n",
      "75 \t\t 30.28732125 \t 81.24797724983777 \t 9.013765985970446 \t 34\n",
      "76 \t\t 30.94245125 \t 82.57412639004744 \t 9.087030669588797 \t 34\n",
      "77 \t\t 31.28315025 \t 83.31254268479213 \t 9.127570469998691 \t 35\n",
      "78 \t\t 31.340279 \t 83.80572070013976 \t 9.154546449723206 \t 35\n",
      "79 \t\t 31.340498 \t 83.93234461676349 \t 9.161459742680938 \t 35\n",
      "80 \t\t 31.23544325 \t 84.81540122323243 \t 9.209527741596332 \t 35\n",
      "81 \t\t 31.06252975 \t 86.1588792785196 \t 9.282180739380138 \t 35\n",
      "82 \t\t 30.97345525 \t 86.90894362743315 \t 9.322496641320562 \t 35\n",
      "83 \t\t 30.86114775 \t 87.95285980180901 \t 9.378318602063432 \t 35\n",
      "84 \t\t 30.6994475 \t 89.5636141962187 \t 9.46380548174035 \t 35\n",
      "85 \t\t 30.56510075 \t 90.94680189360346 \t 9.53660326812453 \t 35\n",
      "86 \t\t 30.41355375 \t 92.73932204403393 \t 9.630125754320861 \t 35\n",
      "87 \t\t 30.3703165 \t 93.52122769189366 \t 9.670637398429003 \t 35\n",
      "88 \t\t 30.248494 \t 95.23140223483622 \t 9.758657809086055 \t 35\n",
      "89 \t\t 30.12209825 \t 96.93030726598515 \t 9.84531905353936 \t 34\n",
      "90 \t\t 30.00940225 \t 98.67662734771123 \t 9.93361099236885 \t 34\n",
      "91 \t\t 29.93843175 \t 100.34008860213656 \t 10.016989997106744 \t 34\n",
      "92 \t\t 29.74109475 \t 103.5947328196479 \t 10.17814977388562 \t 34\n",
      "93 \t\t 29.55101375 \t 106.56350009583424 \t 10.322959851507427 \t 34\n",
      "94 \t\t 29.441303 \t 109.06364366384379 \t 10.443354042827611 \t 34\n",
      "95 \t\t 29.30020075 \t 112.46938026079094 \t 10.605158191219541 \t 34\n",
      "96 \t\t 29.014792 \t 117.48335769622412 \t 10.838974014925219 \t 34\n",
      "97 \t\t 28.848296 \t 122.0477213980118 \t 11.047521052164228 \t 34\n",
      "98 \t\t 28.60785775 \t 128.20698820419807 \t 11.322852476483039 \t 34\n",
      "99 \t\t 28.27475775 \t 135.97499343040755 \t 11.66083159257553 \t 34\n",
      "100 \t\t 25.483326 \t 138.51283297838611 \t 11.769147504317639 \t 31\n",
      "101\n",
      "4000000\n",
      "18\n",
      "31\n",
      "38\n",
      "34\n"
     ]
    }
   ],
   "source": [
    "from collections import Counter\n",
    "\n",
    "all_qscores = []\n",
    "median = []\n",
    "for i in range(101):\n",
    "    all_qscores.append([])\n",
    "    median.append(0)\n",
    "NR=0\n",
    "CF=-1\n",
    "\n",
    "def convert_phred(letter):\n",
    "    \"\"\"Converts a single character into a phred score\"\"\"\n",
    "    QScore = ord(letter) - 33\n",
    "    return QScore\n",
    "\n",
    "#Redundant reassignment since I didn't want to run file many times\n",
    "with open (\"../lane1_NoIndex_L001_R1_003.fastq\") as fh:\n",
    "    for line in fh:\n",
    "        NR+=1\n",
    "        if NR%500000==0:\n",
    "            print (NR)\n",
    "        if NR%4 == 0:\n",
    "            for i in range(101):\n",
    "                all_qscores[i].append(convert_phred(line[i]))\n",
    "\n",
    "#Populate the median\n",
    "for i in range(101):\n",
    "    if i%20 == 0:\n",
    "        print(i)\n",
    "    all_qscores[i]=sorted(all_qscores[i])\n",
    "    median[i]=all_qscores[i][2000000]\n",
    "\n",
    "#Make the file for position 6\n",
    "pos6=Counter(all_qscores[5])\n",
    "p6=open(\"P6.tsv\",\"w+\")\n",
    "for key, value in pos6.items() :\n",
    "    p6.write(str(key) + \"\\t\" + str(value) + \"\\n\")\n",
    "p6.close()\n",
    "\n",
    "#Make the file for position 95\n",
    "pos95 = Counter(all_qscores[94])\n",
    "p95=open(\"P95.tsv\",\"w+\")\n",
    "for key, value in pos95.items() :\n",
    "    p95.write(str(key) + \"\\t\" + str(value) + \"\\n\")\n",
    "p95.close()    \n",
    "    \n",
    "#MY PRINT STATEMENT\n",
    "print (\"# Base Pair\",\"\\t\",\"Mean Quality Score\",\"\\t\",\"Variance\",\"\\t\",\"Standard Deviation\",\"\\t\",\"Median\")\n",
    "for i in range(101):\n",
    "    print(i,\"\\t\\t\",mean_scores[i],\"\\t\",var[i],\"\\t\",stdev[i],\"\\t\",median[i])\n",
    "      \n",
    "#Just some quality assurance statements        \n",
    "print(len(all_qscores))\n",
    "print(len(all_qscores[1]))\n",
    "print(all_qscores[100][826109])\n",
    "print(all_qscores[0][826109])\n",
    "print(median[54])\n",
    "print(median[99])"
   ]
  },
  {
   "cell_type": "code",
   "execution_count": 12,
   "metadata": {
    "deletable": false,
    "nbgrader": {
     "checksum": "a8900af44ab9863d3921a69044791c70",
     "grade": true,
     "grade_id": "Pos6_plot",
     "locked": false,
     "points": 1,
     "schema_version": 1,
     "solution": true
    }
   },
   "outputs": [
    {
     "name": "stdout",
     "output_type": "stream",
     "text": [
      "POS_6.pdf\n"
     ]
    }
   ],
   "source": [
    "#Use this cell to generate your position 6 plot in Jupyter.\n",
    "#Otherwise, issue a print statement so that the name of your plot file is printed.\n",
    "\n",
    "#Print position 6 plot file name\n",
    "print(\"POS_6.pdf\")"
   ]
  },
  {
   "cell_type": "code",
   "execution_count": 13,
   "metadata": {
    "deletable": false,
    "nbgrader": {
     "checksum": "e96e86a3aaf003b18525c83a76a21ae0",
     "grade": true,
     "grade_id": "Pos95_plot",
     "locked": false,
     "points": 1,
     "schema_version": 1,
     "solution": true
    }
   },
   "outputs": [
    {
     "name": "stdout",
     "output_type": "stream",
     "text": [
      "POS_95.pdf\n"
     ]
    }
   ],
   "source": [
    "#Use this cell to generate your position 95 plot in Jupyter.\n",
    "#Otherwise, issue a print statement so that the name of your plot file is printed.\n",
    "\n",
    "#Print position 95 plot file name\n",
    "print(\"POS_95.pdf\")"
   ]
  },
  {
   "cell_type": "code",
   "execution_count": 14,
   "metadata": {
    "deletable": false,
    "editable": false,
    "nbgrader": {
     "checksum": "e878b4808f17050aea127e7b4c7fa675",
     "grade": true,
     "grade_id": "grade_array_of_arrays",
     "locked": true,
     "points": 4,
     "schema_version": 1,
     "solution": false
    }
   },
   "outputs": [
    {
     "ename": "AssertionError",
     "evalue": "",
     "output_type": "error",
     "traceback": [
      "\u001b[1;31m---------------------------------------------------------------------------\u001b[0m",
      "\u001b[1;31mAssertionError\u001b[0m                            Traceback (most recent call last)",
      "\u001b[1;32m<ipython-input-14-568e9d0654fe>\u001b[0m in \u001b[0;36m<module>\u001b[1;34m()\u001b[0m\n\u001b[0;32m      2\u001b[0m \u001b[1;32massert\u001b[0m \u001b[0mlen\u001b[0m\u001b[1;33m(\u001b[0m\u001b[0mall_qscores\u001b[0m\u001b[1;33m[\u001b[0m\u001b[1;36m47\u001b[0m\u001b[1;33m]\u001b[0m\u001b[1;33m)\u001b[0m \u001b[1;33m==\u001b[0m \u001b[1;36m4000000\u001b[0m\u001b[1;33m\u001b[0m\u001b[0m\n\u001b[0;32m      3\u001b[0m \u001b[1;32massert\u001b[0m \u001b[0mall_qscores\u001b[0m\u001b[1;33m[\u001b[0m\u001b[1;36m57\u001b[0m\u001b[1;33m]\u001b[0m\u001b[1;33m[\u001b[0m\u001b[1;36m826109\u001b[0m\u001b[1;33m]\u001b[0m \u001b[1;33m==\u001b[0m \u001b[1;36m33\u001b[0m\u001b[1;33m\u001b[0m\u001b[0m\n\u001b[1;32m----> 4\u001b[1;33m \u001b[1;32massert\u001b[0m \u001b[0mmedian\u001b[0m\u001b[1;33m[\u001b[0m\u001b[1;36m54\u001b[0m\u001b[1;33m]\u001b[0m \u001b[1;33m==\u001b[0m \u001b[1;36m76\u001b[0m\u001b[1;33m\u001b[0m\u001b[0m\n\u001b[0m\u001b[0;32m      5\u001b[0m \u001b[1;32massert\u001b[0m \u001b[0mmedian\u001b[0m\u001b[1;33m[\u001b[0m\u001b[1;36m99\u001b[0m\u001b[1;33m]\u001b[0m \u001b[1;33m==\u001b[0m \u001b[1;36m68\u001b[0m\u001b[1;33m\u001b[0m\u001b[0m\n\u001b[0;32m      6\u001b[0m \u001b[1;32massert\u001b[0m \u001b[0mall_qscores\u001b[0m\u001b[1;33m[\u001b[0m\u001b[1;36m1\u001b[0m\u001b[1;33m]\u001b[0m\u001b[1;33m[\u001b[0m\u001b[1;36m500000\u001b[0m\u001b[1;33m:\u001b[0m\u001b[1;36m500200\u001b[0m\u001b[1;33m]\u001b[0m \u001b[1;33m==\u001b[0m \u001b[1;33m[\u001b[0m\u001b[1;36m31\u001b[0m\u001b[1;33m]\u001b[0m\u001b[1;33m*\u001b[0m\u001b[1;36m200\u001b[0m\u001b[1;33m\u001b[0m\u001b[0m\n",
      "\u001b[1;31mAssertionError\u001b[0m: "
     ]
    }
   ],
   "source": [
    "assert len(all_qscores) == 101\n",
    "assert len(all_qscores[47]) == 4000000\n",
    "assert all_qscores[57][826109] == 33\n",
    "assert median[54] == 76\n",
    "assert median[99] == 68\n",
    "assert all_qscores[1][500000:500200] == [31]*200\n",
    "assert all_qscores[97][3999900:4000000] == [39]*85 + [40]*5 + [41]*10"
   ]
  },
  {
   "cell_type": "code",
   "execution_count": null,
   "metadata": {
    "collapsed": true
   },
   "outputs": [],
   "source": []
  }
 ],
 "metadata": {
  "kernelspec": {
   "display_name": "Python 3",
   "language": "python",
   "name": "python3"
  },
  "language_info": {
   "codemirror_mode": {
    "name": "ipython",
    "version": 3
   },
   "file_extension": ".py",
   "mimetype": "text/x-python",
   "name": "python",
   "nbconvert_exporter": "python",
   "pygments_lexer": "ipython3",
   "version": "3.6.1"
  }
 },
 "nbformat": 4,
 "nbformat_minor": 2
}
