{
 "cells": [
  {
   "cell_type": "markdown",
   "metadata": {},
   "source": [
    "# Problem\n",
    "\n",
    "PCR duplicates occur during the library amplification step. Particular sequences are preferentially amplified, which causes them to be over-represented in your sequencing data. This presents a particular problem with RNA-seq data as you are depending on sequence density as a measure of gene expression. Additionally they can make a genome sequencing loci seem homozygous instead of heterozygous. This problem can be exasperated if your starting DNA fragments are too small, or too many PCR cycles are done (for example if too little DNA is present).\n",
    "\n",
    "However more generally a duplicate can be defined as any sequence for which an identical sequence originating from the same material has already been seen. Library prep depends on random shearing + ligate adapters followed by PCR and adding your sample to the flowcell. Ideally since all samples are sheared at different places and there are so many samples, even though  they all have diplicates, statistically only one (and for most sequences none) of each fall within a flow cell to be bridge amplified. The fact that most don't get sequenced isn't a problem because again the random shearing means different start locations but all actual sequences should be covered by the 100bp length.\n",
    "\n",
    "When we do get the exact sequence seen twice, a duplicate, it may be hard to determine if it is actually the same sequence occuring twice naturally or simply a pcr duplicate. For this we use many methods such as paired-end sequencing, indexing, or in this case UMIs. UMIs are added to the sample before ligation and represent a random sequence present at either end of our reads. If two sequences seem to match, but have different UMIs, it is safe to say they did not come from the same original sequence. Conversely, if they do have the same UMI then they are likely to be from the same origin as there are 96 different UMIs used (in our experiment)."
   ]
  },
  {
   "cell_type": "markdown",
   "metadata": {},
   "source": [
    "# Example Input\n",
    "```    \n",
    "@SQ    SN:chr1    LN:50\n",
    "QNAME         FLAG  RNNAME  POS  MAPQ   CIGAR  RXT  PXT  TLN  SEQ           QUAL\n",
    "\n",
    "#Clear duplicate reads, share position and UMIs. Remove one\n",
    "read1:UMI1    16    chr1    1    255    10M    *    0    10    AATTTAATGC    QualityScore\n",
    "read2:UMI1    16    chr1    1    255    10M    *    0    10    AATTTAATGC    QualityScore\n",
    "\n",
    "#Share position, but different UMI. Keep both\n",
    "read3:UMI2    16    chr1    50   255    10M    *    0    10    AATTTAATGC    QualityScore\n",
    "read4:UMI3    16    chr1    50   255    10M    *    0    10    AATTTAATGC    QualityScore\n",
    "\n",
    "#Position off by two, but first two bases are soft clipped. Matching UMIs. Remove one.\n",
    "read3:UMI4    16    chr1    52   255    2S10M  *    0    10    GGTTTAATGC    QualityScore\n",
    "read4:UMI4    16    chr1    50   255    10M    *    0    10    AATTTAATGC    QualityScore\n",
    "```\n",
    "# Example Output\n",
    "```\n",
    "@SQ    SN:chr1    LN:50\n",
    "QNAME         FLAG  RNNAME  POS  MAPQ   CIGAR  RXT  PXT  TLN  SEQ           QUAL\n",
    "\n",
    "#Clear duplicate reads, share position and UMIs. Remove one\n",
    "read1:UMI1    16    chr1    1    255    10M    *    0    10    AATTTAATGC    QualityScore\n",
    "\n",
    "#Share position, but different UMI. Keep both\n",
    "read3:UMI2    16    chr1    50   255    10M    *    0    10    AATTTAATGC    QualityScore\n",
    "read4:UMI3    16    chr1    50   255    10M    *    0    10    AATTTAATGC    QualityScore\n",
    "\n",
    "#Position off by two, but first two bases are soft clipped. Matching UMIs. Remove one.\n",
    "read4:UMI4    16    chr1    50   255    10M    *    0    10    AATTTAATGC    QualityScore\n",
    "```"
   ]
  },
  {
   "cell_type": "markdown",
   "metadata": {},
   "source": [
    "# Pseudocode\n",
    "\n",
    " ```\n",
    " #First sort the file, then read in UMI's and make a dictionary from them\n",
    " -Samtools sort file by chromosome/position\n",
    " UMIs = read(my_UMIS)\n",
    " for each in UMIs:\n",
    "     Add umi to my Umi_Dictionary\n",
    " \n",
    " Outputfile = open(FilteredFile.sam,w) #Make a new file for which all uniq entries will be placed\n",
    " \n",
    " #Read in and begin parsing through the sam file one line at a time\n",
    " MyFile = read(SamFile)\n",
    " for lines in MyFile:\n",
    "     isolate headerUMI, CigarString, StartPosition    #Pull out the header UMI, CigarString and Position from line\n",
    "     #This will be done by lines.split(\":\") and setting the values to the respective locations\n",
    "     if Function(Check_Softclip) == true:             #Check for soft clipping and if present fix position\n",
    "         StartPosition = Function(Fix_Position)\n",
    "     if headerUMI in Umi_Dictionary:                  #Check if the UMI is in the known list, if not then stop\n",
    "         if StartPosition not in Umi_Dictionary[headerUMI]:\n",
    "             Add position to UMI dictionary key       #If UMI is in list and position isn't in dictionary, add position\n",
    "             Outputfile.write(line)                   #Add the line to our filtered file\n",
    "             unique +=1                               #Keeps count of how many entries are written out\n",
    "         if StartPosition in Umi_Dictionary[headerUMI]:\n",
    "             duplicate +=1                            #Keeps count of proper PCR duplicates\n",
    "     if headerUMI not in Umi_Dictionary:\n",
    "         wrongUMI +=1                                 #Keeps count of mis-sequenced UMIs\n",
    "\n",
    "#Function to check for softclipping\n",
    "def Check_Softclip (Cigar):\n",
    "    if cigar string has soft clipping, return TRUE\n",
    "\n",
    "#Function to fix POS if softclipping found\n",
    "def Fix_Position (StartPosition):  \n",
    "    check number of soft clips and return StartPosition +- difference\n",
    "```"
   ]
  }
 ],
 "metadata": {
  "kernelspec": {
   "display_name": "Python 3",
   "language": "python",
   "name": "python3"
  },
  "language_info": {
   "codemirror_mode": {
    "name": "ipython",
    "version": 3
   },
   "file_extension": ".py",
   "mimetype": "text/x-python",
   "name": "python",
   "nbconvert_exporter": "python",
   "pygments_lexer": "ipython3",
   "version": "3.6.1"
  }
 },
 "nbformat": 4,
 "nbformat_minor": 2
}
